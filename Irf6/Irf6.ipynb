{
  "nbformat": 4,
  "nbformat_minor": 0,
  "metadata": {
    "kernelspec": {
      "display_name": "R",
      "language": "R",
      "name": "ir"
    },
    "language_info": {
      "codemirror_mode": "r",
      "file_extension": ".r",
      "mimetype": "text/x-r-source",
      "name": "R",
      "pygments_lexer": "r",
      "version": "3.3.1"
    },
    "colab": {
      "name": "Irf6",
      "provenance": [],
      "collapsed_sections": [],
      "include_colab_link": true
    }
  },
  "cells": [
    {
      "cell_type": "markdown",
      "metadata": {
        "id": "view-in-github",
        "colab_type": "text"
      },
      "source": [
        "<a href=\"https://colab.research.google.com/github/ahmedmoustafa/Notebooks/blob/master/Irf6/Irf6.ipynb\" target=\"_parent\"><img src=\"https://colab.research.google.com/assets/colab-badge.svg\" alt=\"Open In Colab\"/></a>"
      ]
    },
    {
      "cell_type": "markdown",
      "metadata": {
        "id": "7G9n7ivlqpYU"
      },
      "source": [
        "# Microarray Gene Expression Analysis with R\n",
        "\n",
        "Example: Interferon Regulatory Factor 6 (*IRF6*)\n",
        "\n",
        "---"
      ]
    },
    {
      "cell_type": "markdown",
      "metadata": {
        "id": "lts3iLjMJy4l"
      },
      "source": [
        "## Objectives\n",
        "- Load microarray dataset into R\n",
        "- Explore the dataset with basic visualizations\n",
        "- Identify differentially expressed genes (DEGs)\n",
        "- Generate annotation of the DEGs (*Tentative*)\n",
        "\n",
        "## The Central Dogma of Biology\n",
        "![DNA makes RNA and RNA makes protein](images/dogma.png \"The Central Dogma of Biology\")\n",
        "\n",
        "## Cleft Lip and Palate\n",
        "\n",
        "Cleft lip and cleft palate (**CLP**) are splits in the upper lip, the roof of the mouth (palate) or both. They result when facial structures that are developing in an unborn baby do not close completely. CLP is one of the most common birth defects with a frequency of 1/700 live births.\n",
        "\n",
        "![Cleft lip and palate](https://github.com/ahmedmoustafa/Notebooks/blob/master/images/cleft.jpg?raw=1)\n",
        "\n",
        "### Callgenes\n",
        "\n",
        "Children with cleft lip with or without cleft palate face a variety of challenges, depending on the type and severity of the cleft.\n",
        "\n",
        "- **Difficulty feeding.** One of the most immediate concerns after birth is feeding.\n",
        "\n",
        "- **Ear infections and hearing loss.** Babies with cleft palate are especially at risk of developing middle ear fluid and hearing loss.\n",
        "\n",
        "- **Dental problems.** If the cleft extends through the upper gum, tooth development may be affected.\n",
        "\n",
        "- **Speech difficulties.** Because the palate is used in forming sounds, the development of normal speech can be affected by a cleft palate. Speech may sound too nasal.\n",
        "\n",
        "*Reference*: [Mayo Foundation for Medical Education and Research](https://www.mayoclinic.org/diseases-conditions/cleft-palate/symptoms-causes/syc-20370985)\n",
        "\n",
        "### Genetics\n",
        "\n",
        "- DNA variation in Interferon Regulatory Factor 6 (**IRF6**) causes Van der Woude syndrome (**VWS**)\n",
        "\n",
        "- VWS is the most common syndromic form of cleft lip and palate.\n",
        "\n",
        "- However, the causing variant in IRF6 has been found in *only* 70% of VWS families!\n",
        "\n",
        "- IRF6 is a **transcription factor** with a conserved helix-loop-helix DNA binding domain and a less well-conserved protein binding domain. \n",
        "\n",
        "*Reference*: [Hum Mol Genet. 2014 May 15; 23(10): 2711–2720](http://doi.org/10.1093/hmg/ddt664)\n",
        "\n",
        "### Question\n",
        "\n",
        "Given:\n",
        "\n",
        "1. The pathogenic variant in IRF6 exists in only 70% of the VWS families\n",
        "\n",
        "2. IRF6 is a transcription factor\n",
        "\n",
        "How can we identify other genes that might be involved in the remaining 30% of the VWS families?\n",
        "\n",
        "### Hint\n",
        "\n",
        "- Usually, genes that are regulated by a transcription factor belong to the same biological process or pathway.\n",
        "\n",
        "- Therefore, by comparing the gene expression patterns between wild-type (functional) *Irf6* and knockout (non-functional) *Irf6*, it could be possible to identify genes that are regulated (targeted) by *Irf6*.\n",
        "\n",
        "### Hypothesis\n",
        "\n",
        "- $ H_O : \\mu_{WT} = \\mu_{KO} $\n",
        "\n",
        "- $ H_A : \\mu_{WT} \\ne \\mu_{KO} $\n",
        "\n",
        "- Where $ \\mu $ is the *mean* of the gene expression values of a gene.\n",
        "\n"
      ]
    },
    {
      "cell_type": "code",
      "metadata": {
        "id": "_TiXy1LRVKCc",
        "colab": {
          "base_uri": "https://localhost:8080/",
          "height": 34
        },
        "outputId": "470d5081-cdd0-4b31-ae54-66aa1a14a590"
      },
      "source": [
        "1 + 1"
      ],
      "execution_count": null,
      "outputs": [
        {
          "output_type": "display_data",
          "data": {
            "text/plain": [
              "[1] 2"
            ],
            "text/latex": "2",
            "text/markdown": "2",
            "text/html": [
              "2"
            ]
          },
          "metadata": {
            "tags": []
          }
        }
      ]
    },
    {
      "cell_type": "code",
      "metadata": {
        "id": "1jEz8SRhVMK6"
      },
      "source": [
        ""
      ],
      "execution_count": null,
      "outputs": []
    }
  ]
}